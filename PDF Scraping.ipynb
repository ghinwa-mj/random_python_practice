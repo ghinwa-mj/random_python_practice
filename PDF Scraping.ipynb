{
 "cells": [
  {
   "cell_type": "markdown",
   "metadata": {},
   "source": [
    "https://www.geeksforgeeks.org/working-with-pdf-files-in-python/ "
   ]
  },
  {
   "cell_type": "code",
   "execution_count": null,
   "metadata": {},
   "outputs": [],
   "source": [
    "#think about how to automate this faster in the future"
   ]
  },
  {
   "cell_type": "code",
   "execution_count": 18,
   "metadata": {},
   "outputs": [],
   "source": [
    "#import PyPDF2\n",
    "import pandas as pd"
   ]
  },
  {
   "cell_type": "markdown",
   "metadata": {},
   "source": [
    "##### Saxony"
   ]
  },
  {
   "cell_type": "code",
   "execution_count": 19,
   "metadata": {},
   "outputs": [],
   "source": [
    "from tabula import read_pdf\n",
    "from tabulate import tabulate"
   ]
  },
  {
   "cell_type": "code",
   "execution_count": 4,
   "metadata": {},
   "outputs": [],
   "source": [
    "#Code to Open PDF from online - not really necessary but good to learn\n",
    "\n",
    "import urllib.request\n",
    "\n",
    "pdf_path = \"https://s3platform-legacy.jrc.ec.europa.eu/documents/20182/229963/DE_Thuringen_RIS3_Finale.pdf/c57f7f59-c18a-46ba-bf5e-a36e8ac65e63\"\n",
    "\n",
    "def download_file(download_url, filename):\n",
    "    response = urllib.request.urlopen(download_url)    \n",
    "    file = open(filename + \".pdf\", 'wb')\n",
    "    file.write(response.read())\n",
    "    file.close()"
   ]
  },
  {
   "cell_type": "code",
   "execution_count": 13,
   "metadata": {},
   "outputs": [],
   "source": [
    "download_file(pdf_path, \"RIS3_Saxony\")\n",
    "pdf_file = open(\"RIS3_Saxony.pdf\", 'rb')"
   ]
  },
  {
   "cell_type": "code",
   "execution_count": 54,
   "metadata": {},
   "outputs": [
    {
     "name": "stdout",
     "output_type": "stream",
     "text": [
      "-------------------------------------------------------  ---------------------------------------------  ------------------------------------------------------  -----------------------------------------------------------------------------------------------------------------------\n",
      "0     Productive investment: Number of enterprises r...  0                  Enterprises                 0                              jährlich\n",
      "1     Productive investment: Number of enterprises r...  1                  Enterprises                 1                              jährlich\n",
      "2     Productive investment: Number of enterprises r...  2                  Enterprises                 2                              jährlich\n",
      "3     Research, innovation: Number of new researcher...  3       Full time\\requivalents                 3                              jährlich\n",
      "4     Research, Innovation: Number of researchers wo...  4       Full time\\requivalents                 4                              jährlich\n",
      "5     Research, Innovation: Private investment match...  5                          EUR                 5                              jährlich\n",
      "6     Research, Innovation: Number of enterprises su...  6                  Enterprises                 6                              jährlich\n",
      "7     Research, Innovation: Number of enterprises su...  7                  Enterprises                 7                              jährlich\n",
      "8                                                   NaN  8                          NaN                 8                                   NaN\n",
      "9                 Programmspezifische Outputindikatoren  9                          NaN                 9                                   NaN\n",
      "10                                            Indikator  10    Einheit für die\\rMessung                 10    Häufigkeit der\\rBerichterstattung\n",
      "11    Zahl der unterstützten Hochschulen und\\rForsch...  11     Institut /\\rEinrichtung                 11                             jährlich\n",
      "12    Zahl der Unternehmen, die mit Hochschulen und\\...  12                 Unternehmen                 12                             jährlich\n",
      "13    Zahl der Akteure / Einrichtungen (nicht Untern...  13    Akteure /\\rEinrichtungen                 13                             jährlich\n",
      "14    Zahl der Unternehmen, die an den unterstützten...  14                 Unternehmen                 14                             jährlich\n",
      "15    Zahl der Unternehmen, die Zuschüsse kombiniert...  15                 Unternehmen                 15                             jährlich\n",
      "16    Zahl der Wissens- und Technologietransferberat...  16                 Unternehmen                 16                             jährlich\n",
      "Name: Indikator, dtype: object                           Name: Einheit für\\rdie Messung, dtype: object  Name: Häufigkeit der\\rBerichterstattung, dtype: object\n",
      "                                                                                                                                                                Series([], Name: Niedersächsische regionale Innovationsstrategie für intelligente Spezialisierung (RIS3), dtype: int64)\n",
      "-------------------------------------------------------  ---------------------------------------------  ------------------------------------------------------  -----------------------------------------------------------------------------------------------------------------------\n"
     ]
    }
   ],
   "source": [
    "df = read_pdf(\"RIS3_Saxony.pdf\",pages=\"27\", lattice = True, encoding = 'utf-8') #address of pdf file\n",
    "print(tabulate(df))"
   ]
  },
  {
   "cell_type": "code",
   "execution_count": 59,
   "metadata": {},
   "outputs": [],
   "source": [
    "df_indicators = df[0]\n",
    "df_indicators\n",
    "df_indicators.to_csv('Saxony_result_indicators.csv', encoding = 'utf-8')"
   ]
  },
  {
   "cell_type": "markdown",
   "metadata": {},
   "source": [
    "##### Crete"
   ]
  },
  {
   "cell_type": "code",
   "execution_count": 70,
   "metadata": {},
   "outputs": [],
   "source": [
    "pdf_path = \"https://s3platform-legacy.jrc.ec.europa.eu/documents/20182/244533/RIS-Crete-Translation-ENG.pdf/dc854cd4-1f0a-44c1-b459-ed38a2bbf199\"\n",
    " \n",
    "download_file(pdf_path, \"RIS3_Crete\")"
   ]
  },
  {
   "cell_type": "code",
   "execution_count": 73,
   "metadata": {},
   "outputs": [
    {
     "name": "stdout",
     "output_type": "stream",
     "text": [
      "-------------------------------------------------------  --------------------------------  --------------------------------  --------------------------------  --------------------------------------------------------------------------------------------------------  --------------------------------\n",
      "0                                          (percentage)  0    NaN                          0    NaN                          0    NaN                          0                                                   NaN                                                   0    NaN\n",
      "1                                                   NaN  1    NaN                          1    NaN                          1    NaN                          1     .Τ3104 - Initial stages’ entrepreneurship   (p...                                                   1    NaN\n",
      "2                                                   NaN  2    NaN                          2    NaN                          2    NaN                          2                                           the Region)                                                   2    NaN\n",
      "3                                                   NaN  3    NaN                          3    NaN                          3    NaN                          3     .Τ3105 - Percentage of business turnover of en...                                                   3    NaN\n",
      "4                                                   NaN  4    NaN                          4    NaN                          4    NaN                          4                     sectors in the Region’s total GDP                                                   4    NaN\n",
      "5                                                   NaN  5    NaN                          5    NaN                          5    NaN                          5       .Τ3107 - Patents applied for per million people                                                   5    NaN\n",
      "6                                                   NaN  6    NaN                          6    NaN                          6    NaN                          6     .Τ4224 - Average number of citations per paper...                                                   6    NaN\n",
      "7                                                   NaN  7    NaN                          7    NaN                          7    NaN                          7     .Τ4201 - R&D expenditure of businesses in rela...                                                   7    NaN\n",
      "8                                                   NaN  8    NaN                          8    NaN                          8    NaN                          8                            .Τ4223 - Number of patents                                                   8    NaN\n",
      "9                                                   NaN  9    NaN                          9    NaN                          9    NaN                          9          .Τ4207 - Percentage of innovative businesses                                                   9    NaN\n",
      "10                                                  NaN  10   NaN                          10   NaN                          10   NaN                          10    .Τ4212 - Gross Added Value (GAV) of the 9 stra...                                                   10   NaN\n",
      "11                                                  NaN  11   NaN                          11   NaN                          11   NaN                          11    0. Τ4214 - Export of Greek enterprises in the ...                                                   11   NaN\n",
      "12                                                  NaN  12   NaN                          12   NaN                          12   NaN                          12    1. Τ3102 - Gross Added Value of ICT’s (million €)                                                   12   NaN\n",
      "13                                                  NaN  13   NaN                          13   NaN                          13   NaN                          13    2. Τ3103 - E-government per population of the ...                                                   13   NaN\n",
      "14                                                  NaN  14   NaN                          14   NaN                          14   NaN                          14    3. Τ4206 - Percentage of broadband connections...                                                   14   NaN\n",
      "15                                                  NaN  15   NaN                          15   NaN                          15   NaN                          15    4. Τ4226 - Percentage of next generation broad...                                                   15   NaN\n",
      "16                                                  NaN  16   NaN                          16   NaN                          16   NaN                          16    5. Τ4205 - Engagement in ICT’s on behalf of en...                                                   16   NaN\n",
      "17                                                  NaN  17   NaN                          17   NaN                          17   NaN                          17    16. Τ3120 - Number of SME’s that are still ope...                                                   17   NaN\n",
      "18                                                 date  18   NaN                          18   NaN                          18   NaN                          18                                                  NaN                                                   18   NaN\n",
      "19    17. Τ3121 - Businesses that enhance their comp...  19   NaN                          19   NaN                          19   NaN                          19                                                  NaN                                                   19   NaN\n",
      "20    18. Τ4217 - Start-ups that are still operating...  20   NaN                          20   NaN                          20   NaN                          20                                                  NaN                                                   20   NaN\n",
      "21    19. CR03 - Participants gaining a qualificatio...  21   NaN                          21   NaN                          21   NaN                          21                                                  NaN                                                   21   NaN\n",
      "22    20. CR07 - Participants with an improved labou...  22   NaN                          22   NaN                          22   NaN                          22                                                  NaN                                                   22   NaN\n",
      "Name: Unnamed: 0, dtype: object                          Name: Unnamed: 1, dtype: float64  Name: Unnamed: 2, dtype: float64  Name: Unnamed: 3, dtype: float64  Name: .Τ3101 - Private Expenditure of business on RTDI in relation to the Regional GDPESF, dtype: object  Name: Unnamed: 4, dtype: float64\n",
      "-------------------------------------------------------  --------------------------------  --------------------------------  --------------------------------  --------------------------------------------------------------------------------------------------------  --------------------------------\n"
     ]
    }
   ],
   "source": [
    "df = read_pdf(\"RIS3_Crete.pdf\",pages=\"31\", lattice = True) #address of pdf file\n",
    "print(tabulate(df))"
   ]
  },
  {
   "cell_type": "code",
   "execution_count": 119,
   "metadata": {},
   "outputs": [],
   "source": [
    "indicators = pd.DataFrame(df[0].iloc[1:18,4])\n",
    "indicators.columns = ['indicators']"
   ]
  },
  {
   "cell_type": "code",
   "execution_count": 121,
   "metadata": {},
   "outputs": [
    {
     "ename": "KeyError",
     "evalue": "'indicators'",
     "output_type": "error",
     "traceback": [
      "\u001b[1;31m---------------------------------------------------------------------------\u001b[0m",
      "\u001b[1;31mKeyError\u001b[0m                                  Traceback (most recent call last)",
      "\u001b[1;32m<ipython-input-121-b5a5c0fdcc4c>\u001b[0m in \u001b[0;36m<module>\u001b[1;34m\u001b[0m\n\u001b[1;32m----> 1\u001b[1;33m \u001b[0mindicators\u001b[0m\u001b[1;33m[\u001b[0m\u001b[1;33m[\u001b[0m\u001b[1;34m'drop'\u001b[0m\u001b[1;33m,\u001b[0m \u001b[1;34m'indicators'\u001b[0m\u001b[1;33m]\u001b[0m\u001b[1;33m]\u001b[0m \u001b[1;33m=\u001b[0m \u001b[0mindicators\u001b[0m\u001b[1;33m[\u001b[0m\u001b[1;34m'indicators'\u001b[0m\u001b[1;33m]\u001b[0m\u001b[1;33m.\u001b[0m\u001b[0mstr\u001b[0m\u001b[1;33m.\u001b[0m\u001b[0msplit\u001b[0m\u001b[1;33m(\u001b[0m\u001b[1;34m'-'\u001b[0m\u001b[1;33m,\u001b[0m \u001b[1;36m1\u001b[0m\u001b[1;33m,\u001b[0m \u001b[0mexpand\u001b[0m\u001b[1;33m=\u001b[0m\u001b[1;32mTrue\u001b[0m\u001b[1;33m)\u001b[0m\u001b[1;33m\u001b[0m\u001b[1;33m\u001b[0m\u001b[0m\n\u001b[0m\u001b[0;32m      2\u001b[0m \u001b[0mindicators\u001b[0m \u001b[1;33m=\u001b[0m \u001b[0mindicators\u001b[0m\u001b[1;33m[\u001b[0m\u001b[1;34m'indicators'\u001b[0m\u001b[1;33m]\u001b[0m\u001b[1;33m\u001b[0m\u001b[1;33m\u001b[0m\u001b[0m\n\u001b[0;32m      3\u001b[0m \u001b[0mindicators\u001b[0m\u001b[1;33m\u001b[0m\u001b[1;33m\u001b[0m\u001b[0m\n\u001b[0;32m      4\u001b[0m \u001b[1;33m\u001b[0m\u001b[0m\n\u001b[0;32m      5\u001b[0m \u001b[1;33m\u001b[0m\u001b[0m\n",
      "\u001b[1;32m~\\anaconda3\\lib\\site-packages\\pandas\\core\\series.py\u001b[0m in \u001b[0;36m__getitem__\u001b[1;34m(self, key)\u001b[0m\n\u001b[0;32m    869\u001b[0m         \u001b[0mkey\u001b[0m \u001b[1;33m=\u001b[0m \u001b[0mcom\u001b[0m\u001b[1;33m.\u001b[0m\u001b[0mapply_if_callable\u001b[0m\u001b[1;33m(\u001b[0m\u001b[0mkey\u001b[0m\u001b[1;33m,\u001b[0m \u001b[0mself\u001b[0m\u001b[1;33m)\u001b[0m\u001b[1;33m\u001b[0m\u001b[1;33m\u001b[0m\u001b[0m\n\u001b[0;32m    870\u001b[0m         \u001b[1;32mtry\u001b[0m\u001b[1;33m:\u001b[0m\u001b[1;33m\u001b[0m\u001b[1;33m\u001b[0m\u001b[0m\n\u001b[1;32m--> 871\u001b[1;33m             \u001b[0mresult\u001b[0m \u001b[1;33m=\u001b[0m \u001b[0mself\u001b[0m\u001b[1;33m.\u001b[0m\u001b[0mindex\u001b[0m\u001b[1;33m.\u001b[0m\u001b[0mget_value\u001b[0m\u001b[1;33m(\u001b[0m\u001b[0mself\u001b[0m\u001b[1;33m,\u001b[0m \u001b[0mkey\u001b[0m\u001b[1;33m)\u001b[0m\u001b[1;33m\u001b[0m\u001b[1;33m\u001b[0m\u001b[0m\n\u001b[0m\u001b[0;32m    872\u001b[0m \u001b[1;33m\u001b[0m\u001b[0m\n\u001b[0;32m    873\u001b[0m             \u001b[1;32mif\u001b[0m \u001b[1;32mnot\u001b[0m \u001b[0mis_scalar\u001b[0m\u001b[1;33m(\u001b[0m\u001b[0mresult\u001b[0m\u001b[1;33m)\u001b[0m\u001b[1;33m:\u001b[0m\u001b[1;33m\u001b[0m\u001b[1;33m\u001b[0m\u001b[0m\n",
      "\u001b[1;32m~\\anaconda3\\lib\\site-packages\\pandas\\core\\indexes\\base.py\u001b[0m in \u001b[0;36mget_value\u001b[1;34m(self, series, key)\u001b[0m\n\u001b[0;32m   4403\u001b[0m         \u001b[0mk\u001b[0m \u001b[1;33m=\u001b[0m \u001b[0mself\u001b[0m\u001b[1;33m.\u001b[0m\u001b[0m_convert_scalar_indexer\u001b[0m\u001b[1;33m(\u001b[0m\u001b[0mk\u001b[0m\u001b[1;33m,\u001b[0m \u001b[0mkind\u001b[0m\u001b[1;33m=\u001b[0m\u001b[1;34m\"getitem\"\u001b[0m\u001b[1;33m)\u001b[0m\u001b[1;33m\u001b[0m\u001b[1;33m\u001b[0m\u001b[0m\n\u001b[0;32m   4404\u001b[0m         \u001b[1;32mtry\u001b[0m\u001b[1;33m:\u001b[0m\u001b[1;33m\u001b[0m\u001b[1;33m\u001b[0m\u001b[0m\n\u001b[1;32m-> 4405\u001b[1;33m             \u001b[1;32mreturn\u001b[0m \u001b[0mself\u001b[0m\u001b[1;33m.\u001b[0m\u001b[0m_engine\u001b[0m\u001b[1;33m.\u001b[0m\u001b[0mget_value\u001b[0m\u001b[1;33m(\u001b[0m\u001b[0ms\u001b[0m\u001b[1;33m,\u001b[0m \u001b[0mk\u001b[0m\u001b[1;33m,\u001b[0m \u001b[0mtz\u001b[0m\u001b[1;33m=\u001b[0m\u001b[0mgetattr\u001b[0m\u001b[1;33m(\u001b[0m\u001b[0mseries\u001b[0m\u001b[1;33m.\u001b[0m\u001b[0mdtype\u001b[0m\u001b[1;33m,\u001b[0m \u001b[1;34m\"tz\"\u001b[0m\u001b[1;33m,\u001b[0m \u001b[1;32mNone\u001b[0m\u001b[1;33m)\u001b[0m\u001b[1;33m)\u001b[0m\u001b[1;33m\u001b[0m\u001b[1;33m\u001b[0m\u001b[0m\n\u001b[0m\u001b[0;32m   4406\u001b[0m         \u001b[1;32mexcept\u001b[0m \u001b[0mKeyError\u001b[0m \u001b[1;32mas\u001b[0m \u001b[0me1\u001b[0m\u001b[1;33m:\u001b[0m\u001b[1;33m\u001b[0m\u001b[1;33m\u001b[0m\u001b[0m\n\u001b[0;32m   4407\u001b[0m             \u001b[1;32mif\u001b[0m \u001b[0mlen\u001b[0m\u001b[1;33m(\u001b[0m\u001b[0mself\u001b[0m\u001b[1;33m)\u001b[0m \u001b[1;33m>\u001b[0m \u001b[1;36m0\u001b[0m \u001b[1;32mand\u001b[0m \u001b[1;33m(\u001b[0m\u001b[0mself\u001b[0m\u001b[1;33m.\u001b[0m\u001b[0mholds_integer\u001b[0m\u001b[1;33m(\u001b[0m\u001b[1;33m)\u001b[0m \u001b[1;32mor\u001b[0m \u001b[0mself\u001b[0m\u001b[1;33m.\u001b[0m\u001b[0mis_boolean\u001b[0m\u001b[1;33m(\u001b[0m\u001b[1;33m)\u001b[0m\u001b[1;33m)\u001b[0m\u001b[1;33m:\u001b[0m\u001b[1;33m\u001b[0m\u001b[1;33m\u001b[0m\u001b[0m\n",
      "\u001b[1;32mpandas\\_libs\\index.pyx\u001b[0m in \u001b[0;36mpandas._libs.index.IndexEngine.get_value\u001b[1;34m()\u001b[0m\n",
      "\u001b[1;32mpandas\\_libs\\index.pyx\u001b[0m in \u001b[0;36mpandas._libs.index.IndexEngine.get_value\u001b[1;34m()\u001b[0m\n",
      "\u001b[1;32mpandas\\_libs\\index.pyx\u001b[0m in \u001b[0;36mpandas._libs.index.IndexEngine.get_loc\u001b[1;34m()\u001b[0m\n",
      "\u001b[1;32mpandas\\_libs\\index_class_helper.pxi\u001b[0m in \u001b[0;36mpandas._libs.index.Int64Engine._check_type\u001b[1;34m()\u001b[0m\n",
      "\u001b[1;31mKeyError\u001b[0m: 'indicators'"
     ]
    }
   ],
   "source": [
    "indicators[['drop', 'indicators']] = indicators['indicators'].str.split('-', 1, expand=True)\n",
    "indicators = indicators['indicators']\n",
    "#indicators.to_csv('Crete_indicators.csv', encoding = 'utf-8')"
   ]
  },
  {
   "cell_type": "markdown",
   "metadata": {},
   "source": [
    "##### Abruzzo"
   ]
  },
  {
   "cell_type": "code",
   "execution_count": 4,
   "metadata": {},
   "outputs": [],
   "source": [
    "pdf_path = \"https://s3platform-legacy.jrc.ec.europa.eu/documents/20182/225192/IT_Abruzzo_RIS3_201503_Final.pdf/2cb5bf23-4a27-4bcd-ab9e-ff214e1f722c\"\n",
    " \n",
    "download_file(pdf_path, \"RIS3_IT_Abruzzo\")"
   ]
  },
  {
   "cell_type": "code",
   "execution_count": 140,
   "metadata": {},
   "outputs": [
    {
     "data": {
      "text/html": [
       "<div>\n",
       "<style scoped>\n",
       "    .dataframe tbody tr th:only-of-type {\n",
       "        vertical-align: middle;\n",
       "    }\n",
       "\n",
       "    .dataframe tbody tr th {\n",
       "        vertical-align: top;\n",
       "    }\n",
       "\n",
       "    .dataframe thead th {\n",
       "        text-align: right;\n",
       "    }\n",
       "</style>\n",
       "<table border=\"1\" class=\"dataframe\">\n",
       "  <thead>\n",
       "    <tr style=\"text-align: right;\">\n",
       "      <th></th>\n",
       "      <th>MACRO FINALITÀ\\rCAMBIAMENTO ATTESO</th>\n",
       "      <th>INDICATORE\\rS3</th>\n",
       "    </tr>\n",
       "  </thead>\n",
       "  <tbody>\n",
       "    <tr>\n",
       "      <th>0</th>\n",
       "      <td>MACRO FINALITÀ</td>\n",
       "      <td>INDICATORE</td>\n",
       "    </tr>\n",
       "    <tr>\n",
       "      <th>1</th>\n",
       "      <td>NaN</td>\n",
       "      <td>NaN</td>\n",
       "    </tr>\n",
       "    <tr>\n",
       "      <th>2</th>\n",
       "      <td>NaN</td>\n",
       "      <td>NaN</td>\n",
       "    </tr>\n",
       "    <tr>\n",
       "      <th>3</th>\n",
       "      <td>CAMBIAMENTO ATTESO</td>\n",
       "      <td>S3</td>\n",
       "    </tr>\n",
       "    <tr>\n",
       "      <th>4</th>\n",
       "      <td>NaN</td>\n",
       "      <td>NaN</td>\n",
       "    </tr>\n",
       "    <tr>\n",
       "      <th>5</th>\n",
       "      <td>NaN</td>\n",
       "      <td>NaN</td>\n",
       "    </tr>\n",
       "    <tr>\n",
       "      <th>6</th>\n",
       "      <td>৹\\rAumento della cultura e dalla propensione a...</td>\n",
       "      <td>Imprese che hanno svolto attività di R&amp;S in\\rc...</td>\n",
       "    </tr>\n",
       "    <tr>\n",
       "      <th>7</th>\n",
       "      <td>NaN</td>\n",
       "      <td>Numero di imprese che ricevono un sostegno\\r(a...</td>\n",
       "    </tr>\n",
       "    <tr>\n",
       "      <th>8</th>\n",
       "      <td>NaN</td>\n",
       "      <td>Numero di imprese che ricevono sovvenzioni\\r(C...</td>\n",
       "    </tr>\n",
       "    <tr>\n",
       "      <th>9</th>\n",
       "      <td>NaN</td>\n",
       "      <td>Numero di imprese che cooperano con istituti\\r...</td>\n",
       "    </tr>\n",
       "    <tr>\n",
       "      <th>10</th>\n",
       "      <td>৹\\rSostegno di reti di impresa (grandi e PMI) ...</td>\n",
       "      <td>Numerodiimpresesostenuteperintrodurre\\rnuovipr...</td>\n",
       "    </tr>\n",
       "    <tr>\n",
       "      <th>11</th>\n",
       "      <td>NaN</td>\n",
       "      <td>Numerodinuoveimpresechericevonoun\\rsostegno (C...</td>\n",
       "    </tr>\n",
       "    <tr>\n",
       "      <th>12</th>\n",
       "      <td>NaN</td>\n",
       "      <td>Investimentiprivaticombinatialsostegno\\r29\\rpu...</td>\n",
       "    </tr>\n",
       "    <tr>\n",
       "      <th>13</th>\n",
       "      <td>৹\\rAumento della cultura imprenditoriale (sett...</td>\n",
       "      <td>Tasso di innovazione del sistema produttivo</td>\n",
       "    </tr>\n",
       "    <tr>\n",
       "      <th>14</th>\n",
       "      <td>Grado di apertura commerciale del comparto\\rma...</td>\n",
       "      <td>ISTAT</td>\n",
       "    </tr>\n",
       "  </tbody>\n",
       "</table>\n",
       "</div>"
      ],
      "text/plain": [
       "                   MACRO FINALITÀ\\rCAMBIAMENTO ATTESO  \\\n",
       "0                                      MACRO FINALITÀ   \n",
       "1                                                 NaN   \n",
       "2                                                 NaN   \n",
       "3                                  CAMBIAMENTO ATTESO   \n",
       "4                                                 NaN   \n",
       "5                                                 NaN   \n",
       "6   ৹\\rAumento della cultura e dalla propensione a...   \n",
       "7                                                 NaN   \n",
       "8                                                 NaN   \n",
       "9                                                 NaN   \n",
       "10  ৹\\rSostegno di reti di impresa (grandi e PMI) ...   \n",
       "11                                                NaN   \n",
       "12                                                NaN   \n",
       "13  ৹\\rAumento della cultura imprenditoriale (sett...   \n",
       "14  Grado di apertura commerciale del comparto\\rma...   \n",
       "\n",
       "                                       INDICATORE\\rS3  \n",
       "0                                          INDICATORE  \n",
       "1                                                 NaN  \n",
       "2                                                 NaN  \n",
       "3                                                  S3  \n",
       "4                                                 NaN  \n",
       "5                                                 NaN  \n",
       "6   Imprese che hanno svolto attività di R&S in\\rc...  \n",
       "7   Numero di imprese che ricevono un sostegno\\r(a...  \n",
       "8   Numero di imprese che ricevono sovvenzioni\\r(C...  \n",
       "9   Numero di imprese che cooperano con istituti\\r...  \n",
       "10  Numerodiimpresesostenuteperintrodurre\\rnuovipr...  \n",
       "11  Numerodinuoveimpresechericevonoun\\rsostegno (C...  \n",
       "12  Investimentiprivaticombinatialsostegno\\r29\\rpu...  \n",
       "13        Tasso di innovazione del sistema produttivo  \n",
       "14                                              ISTAT  "
      ]
     },
     "execution_count": 140,
     "metadata": {},
     "output_type": "execute_result"
    }
   ],
   "source": [
    "df = read_pdf(\"RIS3_IT_Abruzzo.pdf\",pages=\"106\", lattice = False) #address of pdf file\n",
    "df[0].iloc[:, 0:2]"
   ]
  },
  {
   "cell_type": "code",
   "execution_count": 3,
   "metadata": {},
   "outputs": [
    {
     "data": {
      "text/plain": [
       "'C:\\\\Users\\\\ITN1\\\\anaconda3\\\\Library\\\\bin\\\\gsdll64.dll'"
      ]
     },
     "execution_count": 3,
     "metadata": {},
     "output_type": "execute_result"
    }
   ],
   "source": [
    "import camelot\n",
    "\n",
    "import ctypes\n",
    "from ctypes.util import find_library\n",
    "find_library(\"\".join((\"gsdll\", str(ctypes.sizeof(ctypes.c_voidp) * 8), \".dll\")))\n",
    " \n",
    "# extract all the tables in the PDF file"
   ]
  },
  {
   "cell_type": "code",
   "execution_count": 22,
   "metadata": {},
   "outputs": [],
   "source": [
    "first_table = camelot.read_pdf(\"RIS3_IT_Abruzzo.pdf\",pages=\"106\")\n",
    "second_table = camelot.read_pdf(\"RIS3_IT_Abruzzo.pdf\",pages=\"107\")"
   ]
  },
  {
   "cell_type": "code",
   "execution_count": 25,
   "metadata": {},
   "outputs": [],
   "source": [
    "df_first = pd.DataFrame(data = {'expected_change': first_table[0].df[0],\n",
    "              'indicators': first_table[0].df[1]})\n",
    "\n",
    "df_second = pd.DataFrame(data = {'expected_change': second_table[0].df[0],\n",
    "              'indicators': second_table[0].df[1]})"
   ]
  },
  {
   "cell_type": "code",
   "execution_count": 27,
   "metadata": {},
   "outputs": [],
   "source": [
    "df_abruzzo = pd.concat([df_first, df_second])"
   ]
  },
  {
   "cell_type": "code",
   "execution_count": 38,
   "metadata": {},
   "outputs": [],
   "source": [
    "df_abruzzo.to_excel('indicators_it_abruzzo.xlsx')"
   ]
  },
  {
   "cell_type": "code",
   "execution_count": 36,
   "metadata": {},
   "outputs": [
    {
     "data": {
      "text/html": [
       "<div>\n",
       "<style scoped>\n",
       "    .dataframe tbody tr th:only-of-type {\n",
       "        vertical-align: middle;\n",
       "    }\n",
       "\n",
       "    .dataframe tbody tr th {\n",
       "        vertical-align: top;\n",
       "    }\n",
       "\n",
       "    .dataframe thead th {\n",
       "        text-align: right;\n",
       "    }\n",
       "</style>\n",
       "<table border=\"1\" class=\"dataframe\">\n",
       "  <thead>\n",
       "    <tr style=\"text-align: right;\">\n",
       "      <th></th>\n",
       "      <th>expected_change</th>\n",
       "      <th>indicators</th>\n",
       "    </tr>\n",
       "  </thead>\n",
       "  <tbody>\n",
       "    <tr>\n",
       "      <th>0</th>\n",
       "      <td>MACRO FINALITÀ \\n CAMBIAMENTO ATTESO</td>\n",
       "      <td>INDICATORE \\nS3</td>\n",
       "    </tr>\n",
       "    <tr>\n",
       "      <th>1</th>\n",
       "      <td>৹  Aumento  della  cultura  e  dalla  propensi...</td>\n",
       "      <td>Imprese  che  hanno  svolto  attività  di  R&amp;S...</td>\n",
       "    </tr>\n",
       "    <tr>\n",
       "      <th>2</th>\n",
       "      <td></td>\n",
       "      <td>Numero  di  imprese  che  ricevono  un  sosteg...</td>\n",
       "    </tr>\n",
       "    <tr>\n",
       "      <th>3</th>\n",
       "      <td></td>\n",
       "      <td>Numero  di  imprese  che  ricevono  sovvenzion...</td>\n",
       "    </tr>\n",
       "    <tr>\n",
       "      <th>4</th>\n",
       "      <td></td>\n",
       "      <td>Numero di imprese che cooperano con istituti \\...</td>\n",
       "    </tr>\n",
       "    <tr>\n",
       "      <th>5</th>\n",
       "      <td>৹  Sostegno di reti di impresa (grandi e PMI) ...</td>\n",
       "      <td>Numero  di  imprese  sostenute  per  introdurr...</td>\n",
       "    </tr>\n",
       "    <tr>\n",
       "      <th>6</th>\n",
       "      <td></td>\n",
       "      <td>Numero  di  nuove \\nimprese  che  ricevono  un...</td>\n",
       "    </tr>\n",
       "    <tr>\n",
       "      <th>7</th>\n",
       "      <td></td>\n",
       "      <td>Investimenti  privati \\ncombinati \\nal \\nsoste...</td>\n",
       "    </tr>\n",
       "    <tr>\n",
       "      <th>8</th>\n",
       "      <td>৹  Aumento della cultura imprenditoriale (sett...</td>\n",
       "      <td>Tasso di innovazione del sistema produttivo</td>\n",
       "    </tr>\n",
       "    <tr>\n",
       "      <th>9</th>\n",
       "      <td></td>\n",
       "      <td>Grado  di  apertura  commerciale  del  compart...</td>\n",
       "    </tr>\n",
       "    <tr>\n",
       "      <th>0</th>\n",
       "      <td>VALORI \\nFREQUENZA \\nMACRO FINALITÀ \\nINDICATO...</td>\n",
       "      <td></td>\n",
       "    </tr>\n",
       "    <tr>\n",
       "      <th>1</th>\n",
       "      <td>৹  Aumento dell’efficienza produttiva \\nintern...</td>\n",
       "      <td>Aumento  della  produttività  (prodotto  per  ...</td>\n",
       "    </tr>\n",
       "    <tr>\n",
       "      <th>2</th>\n",
       "      <td></td>\n",
       "      <td>Intensità  brevettuale:  Brevetti \\nregistrati...</td>\n",
       "    </tr>\n",
       "    <tr>\n",
       "      <th>3</th>\n",
       "      <td></td>\n",
       "      <td>CO28 Aumento quota del progetto prodotto</td>\n",
       "    </tr>\n",
       "    <tr>\n",
       "      <th>4</th>\n",
       "      <td>qualità \\ndella \\nvita \\ndella \\n৹  Migliorame...</td>\n",
       "      <td>Comuni con servizi ICT pienamente interattivi</td>\n",
       "    </tr>\n",
       "    <tr>\n",
       "      <th>5</th>\n",
       "      <td></td>\n",
       "      <td>Posizione  media  delle  città  umbre  nel  ra...</td>\n",
       "    </tr>\n",
       "  </tbody>\n",
       "</table>\n",
       "</div>"
      ],
      "text/plain": [
       "                                     expected_change  \\\n",
       "0               MACRO FINALITÀ \\n CAMBIAMENTO ATTESO   \n",
       "1  ৹  Aumento  della  cultura  e  dalla  propensi...   \n",
       "2                                                      \n",
       "3                                                      \n",
       "4                                                      \n",
       "5  ৹  Sostegno di reti di impresa (grandi e PMI) ...   \n",
       "6                                                      \n",
       "7                                                      \n",
       "8  ৹  Aumento della cultura imprenditoriale (sett...   \n",
       "9                                                      \n",
       "0  VALORI \\nFREQUENZA \\nMACRO FINALITÀ \\nINDICATO...   \n",
       "1  ৹  Aumento dell’efficienza produttiva \\nintern...   \n",
       "2                                                      \n",
       "3                                                      \n",
       "4  qualità \\ndella \\nvita \\ndella \\n৹  Migliorame...   \n",
       "5                                                      \n",
       "\n",
       "                                          indicators  \n",
       "0                                    INDICATORE \\nS3  \n",
       "1  Imprese  che  hanno  svolto  attività  di  R&S...  \n",
       "2  Numero  di  imprese  che  ricevono  un  sosteg...  \n",
       "3  Numero  di  imprese  che  ricevono  sovvenzion...  \n",
       "4  Numero di imprese che cooperano con istituti \\...  \n",
       "5  Numero  di  imprese  sostenute  per  introdurr...  \n",
       "6  Numero  di  nuove \\nimprese  che  ricevono  un...  \n",
       "7  Investimenti  privati \\ncombinati \\nal \\nsoste...  \n",
       "8        Tasso di innovazione del sistema produttivo  \n",
       "9  Grado  di  apertura  commerciale  del  compart...  \n",
       "0                                                     \n",
       "1  Aumento  della  produttività  (prodotto  per  ...  \n",
       "2  Intensità  brevettuale:  Brevetti \\nregistrati...  \n",
       "3           CO28 Aumento quota del progetto prodotto  \n",
       "4      Comuni con servizi ICT pienamente interattivi  \n",
       "5  Posizione  media  delle  città  umbre  nel  ra...  "
      ]
     },
     "execution_count": 36,
     "metadata": {},
     "output_type": "execute_result"
    }
   ],
   "source": [
    "df_abruzzo"
   ]
  },
  {
   "cell_type": "markdown",
   "metadata": {},
   "source": [
    "##### Calabria"
   ]
  },
  {
   "cell_type": "code",
   "execution_count": 40,
   "metadata": {},
   "outputs": [],
   "source": [
    "pdf_path = 'https://s3platform-legacy.jrc.ec.europa.eu/documents/20182/225192/IT_Calabria_RIS3_201607_Final.pdf/3b9130e6-7b86-478c-9183-9e7cd6a72965'\n",
    "\n",
    "download_file(pdf_path, \"RIS3_IT_Calabria\")"
   ]
  },
  {
   "cell_type": "code",
   "execution_count": 41,
   "metadata": {},
   "outputs": [],
   "source": [
    "first_table = camelot.read_pdf(\"RIS3_IT_Calabria.pdf\",pages=\"218\")\n",
    "second_table = camelot.read_pdf(\"RIS3_IT_Calabria.pdf\",pages=\"219\")"
   ]
  },
  {
   "cell_type": "code",
   "execution_count": 52,
   "metadata": {},
   "outputs": [],
   "source": [
    "indicators = pd.concat([first_table[0].df, second_table[0].df])\n",
    "\n",
    "indicators.to_excel('output_indicators_it_calabria.xlsx')"
   ]
  },
  {
   "cell_type": "code",
   "execution_count": 53,
   "metadata": {},
   "outputs": [],
   "source": [
    "third_table = camelot.read_pdf(\"RIS3_IT_Calabria.pdf\",pages=\"220\")\n",
    "fourth_table = camelot.read_pdf(\"RIS3_IT_Calabria.pdf\",pages=\"222\")"
   ]
  },
  {
   "cell_type": "code",
   "execution_count": 56,
   "metadata": {},
   "outputs": [],
   "source": [
    "third_table[0].df.to_excel('result_indicators_it_calabria.xlsx')\n",
    "fourth_table[0].df.to_excel('impact_indicators_it_calabria.xlsx')"
   ]
  },
  {
   "cell_type": "markdown",
   "metadata": {},
   "source": [
    "##### Emilia Romanga"
   ]
  },
  {
   "cell_type": "code",
   "execution_count": 6,
   "metadata": {},
   "outputs": [],
   "source": [
    "pdf_path = 'https://s3platform-legacy.jrc.ec.europa.eu/documents/20182/225192/IT_Emilia-Romagna_RIS3_Final.pdf/709ccb97-f34a-4cb8-bacf-c9b535b6f356'\n",
    "download_file(pdf_path, \"RIS3_IT_Emilia_Romanga\")"
   ]
  },
  {
   "cell_type": "code",
   "execution_count": 10,
   "metadata": {},
   "outputs": [],
   "source": [
    "first_table = camelot.read_pdf(\"RIS3_IT_Emilia_Romanga.pdf\",pages=\"326\")"
   ]
  },
  {
   "cell_type": "code",
   "execution_count": 12,
   "metadata": {},
   "outputs": [],
   "source": [
    "first_table[0].df.to_excel('indicators_it_emilia_romanga.xlsx')"
   ]
  },
  {
   "cell_type": "markdown",
   "metadata": {},
   "source": [
    "##### Lazio"
   ]
  },
  {
   "cell_type": "code",
   "execution_count": 18,
   "metadata": {},
   "outputs": [],
   "source": [
    "pdf_path = 'https://s3platform-legacy.jrc.ec.europa.eu/documents/20182/225192/IT_Lazio_RIS3_201606_Final.pdf/d1c62382-6fc6-4b8f-99f6-b04a3afa62d8'\n",
    "download_file(pdf_path, \"RIS3_IT_Lazio\")\n",
    "\n",
    "first_table = camelot.read_pdf(\"RIS3_IT_Lazio.pdf\", pages = \"48\")\n",
    "#first_table[0].df"
   ]
  },
  {
   "cell_type": "code",
   "execution_count": 20,
   "metadata": {},
   "outputs": [],
   "source": [
    "first_table[0].df.to_excel('indicators_it_lazio.xlsx')"
   ]
  },
  {
   "cell_type": "markdown",
   "metadata": {},
   "source": [
    "##### Liguria"
   ]
  },
  {
   "cell_type": "code",
   "execution_count": 22,
   "metadata": {},
   "outputs": [],
   "source": [
    "pdf_path = \"https://s3platform-legacy.jrc.ec.europa.eu/documents/20182/225192/IT_Liguria_RIS3_Final.pdf/14b0e696-9645-44cf-ac70-fa84023fb85e\"\n",
    "download_file(pdf_path, \"RIS3_IT_LIGURIA\")\n",
    "pdf_name = \"RIS3_IT_LIGURIA.pdf\"\n",
    "\n",
    "first_table = camelot.read_pdf(pdf_name, pages = \"109 - 111\")"
   ]
  },
  {
   "cell_type": "code",
   "execution_count": 30,
   "metadata": {},
   "outputs": [],
   "source": [
    "pd.concat([first_table[0].df, first_table[1].df]).to_excel('result_indicator_liguria.xlsx')\n",
    "pd.concat([first_table[2].df, first_table[3].df]).to_excel('output_indicator_liguria.xlsx')"
   ]
  },
  {
   "cell_type": "markdown",
   "metadata": {},
   "source": [
    "##### Veneto"
   ]
  },
  {
   "cell_type": "code",
   "execution_count": 32,
   "metadata": {},
   "outputs": [],
   "source": [
    "pdf_path = r\"C:\\Users\\ITN1\\OneDrive - UPV\\Escritorio\\PHD Progress\\Research\\Monitoring\\Policy Document\\Italian Language\\IT_Veneto_2015.pdf\""
   ]
  },
  {
   "cell_type": "code",
   "execution_count": 38,
   "metadata": {},
   "outputs": [],
   "source": [
    "first_table = camelot.read_pdf(pdf_path, pages = \"120\")"
   ]
  },
  {
   "cell_type": "code",
   "execution_count": 41,
   "metadata": {},
   "outputs": [],
   "source": [
    "first_table[0].df.to_excel(\"indicators_veneto.xlsx\")"
   ]
  },
  {
   "cell_type": "markdown",
   "metadata": {},
   "source": [
    "##### Try to automate a few ones"
   ]
  },
  {
   "cell_type": "code",
   "execution_count": 77,
   "metadata": {},
   "outputs": [],
   "source": [
    "data = [[\"Marche\",\n",
    "         r\"C:\\Users\\ITN1\\OneDrive - UPV\\Escritorio\\PHD Progress\\Research\\Monitoring\\Policy Document\\Italian Language\\IT_Marche_2016.pdf\",\n",
    "         \"135\"],\n",
    "         [\"Marche\",\n",
    "          r\"C:\\Users\\ITN1\\OneDrive - UPV\\Escritorio\\PHD Progress\\Research\\Monitoring\\Policy Document\\Italian Language\\IT_Marche_2016.pdf\",\n",
    "         \"136\"],\n",
    "         [\"Marche\",\n",
    "          r\"C:\\Users\\ITN1\\OneDrive - UPV\\Escritorio\\PHD Progress\\Research\\Monitoring\\Policy Document\\Italian Language\\IT_Marche_2016.pdf\",\n",
    "         \"138\"],\n",
    "         [\"Marche\",\n",
    "          r\"C:\\Users\\ITN1\\OneDrive - UPV\\Escritorio\\PHD Progress\\Research\\Monitoring\\Policy Document\\Italian Language\\IT_Marche_2016.pdf\",\n",
    "         \"139\"],\n",
    "       [\"Molise\",\n",
    "       r\"C:\\Users\\ITN1\\OneDrive - UPV\\Escritorio\\PHD Progress\\Research\\Monitoring\\Policy Document\\Italian Language\\IT_Molise_2016.pdf\",\n",
    "       \"97\"],\n",
    "        [\"Piemonte\",\n",
    "       r\"C:\\Users\\ITN1\\OneDrive - UPV\\Escritorio\\PHD Progress\\Research\\Monitoring\\Policy Document\\Italian Language\\IT_Piemonte_2016.pdf\",\n",
    "       \"131\"],\n",
    "        [\"Piemonte\",\n",
    "       r\"C:\\Users\\ITN1\\OneDrive - UPV\\Escritorio\\PHD Progress\\Research\\Monitoring\\Policy Document\\Italian Language\\IT_Piemonte_2016.pdf\",\n",
    "       \"131\"],\n",
    "        [\"Piemonte\",\n",
    "       r\"C:\\Users\\ITN1\\OneDrive - UPV\\Escritorio\\PHD Progress\\Research\\Monitoring\\Policy Document\\Italian Language\\IT_Piemonte_2016.pdf\",\n",
    "       \"134\"],\n",
    "        [\"Piemonte\",\n",
    "       r\"C:\\Users\\ITN1\\OneDrive - UPV\\Escritorio\\PHD Progress\\Research\\Monitoring\\Policy Document\\Italian Language\\IT_Piemonte_2016.pdf\",\n",
    "       \"135\"],\n",
    "        [\"Piemonte\",\n",
    "       r\"C:\\Users\\ITN1\\OneDrive - UPV\\Escritorio\\PHD Progress\\Research\\Monitoring\\Policy Document\\Italian Language\\IT_Piemonte_2016.pdf\",\n",
    "       \"136\"],\n",
    "        [\"Piemonte\",\n",
    "       r\"C:\\Users\\ITN1\\OneDrive - UPV\\Escritorio\\PHD Progress\\Research\\Monitoring\\Policy Document\\Italian Language\\IT_Piemonte_2016.pdf\",\n",
    "       \"137\"],\n",
    "        [\"Sicilia\",\n",
    "       r\"C:\\Users\\ITN1\\OneDrive - UPV\\Escritorio\\PHD Progress\\Research\\Monitoring\\Policy Document\\Italian Language\\IT_Sicilia_2016.pdf\",\n",
    "       \"181\"],\n",
    "        [\"Sicilia\",\n",
    "       r\"C:\\Users\\ITN1\\OneDrive - UPV\\Escritorio\\PHD Progress\\Research\\Monitoring\\Policy Document\\Italian Language\\IT_Sicilia_2016.pdf\",\n",
    "       \"182\"],\n",
    "        [\"Sicilia\",\n",
    "       r\"C:\\Users\\ITN1\\OneDrive - UPV\\Escritorio\\PHD Progress\\Research\\Monitoring\\Policy Document\\Italian Language\\IT_Sicilia_2016.pdf\",\n",
    "       \"183\"],\n",
    "        [\"Toscana\",\n",
    "       r\"C:\\Users\\ITN1\\OneDrive - UPV\\Escritorio\\PHD Progress\\Research\\Monitoring\\Policy Document\\Italian Language\\IT_Toscana_2016.pdf\",\n",
    "       \"73\"],\n",
    "        [\"Toscana\",\n",
    "       r\"C:\\Users\\ITN1\\OneDrive - UPV\\Escritorio\\PHD Progress\\Research\\Monitoring\\Policy Document\\Italian Language\\IT_Toscana_2016.pdf\",\n",
    "       \"74\"],\n",
    "        [\"Toscana\",\n",
    "       r\"C:\\Users\\ITN1\\OneDrive - UPV\\Escritorio\\PHD Progress\\Research\\Monitoring\\Policy Document\\Italian Language\\IT_Toscana_2016.pdf\",\n",
    "       \"75\"],\n",
    "        [\"Umbria\",\n",
    "       r\"C:\\Users\\ITN1\\OneDrive - UPV\\Escritorio\\PHD Progress\\Research\\Monitoring\\Policy Document\\Italian Language\\IT_Umbria_2014.pdf\",\n",
    "       \"67\"],\n",
    "        [\"Umbria\",\n",
    "       r\"C:\\Users\\ITN1\\OneDrive - UPV\\Escritorio\\PHD Progress\\Research\\Monitoring\\Policy Document\\Italian Language\\IT_Umbria_2014.pdf\",\n",
    "       \"68\"],\n",
    "        [\"Umbria\",\n",
    "       r\"C:\\Users\\ITN1\\OneDrive - UPV\\Escritorio\\PHD Progress\\Research\\Monitoring\\Policy Document\\Italian Language\\IT_Umbria_2014.pdf\",\n",
    "       \"69\"],\n",
    "        [\"Trento\",\n",
    "       r\"C:\\Users\\ITN1\\OneDrive - UPV\\Escritorio\\PHD Progress\\Research\\Monitoring\\Policy Document\\Italian Language\\IT_Trento_2016.pdf\",\n",
    "       \"91\"]\n",
    "       ]"
   ]
  },
  {
   "cell_type": "code",
   "execution_count": 78,
   "metadata": {},
   "outputs": [],
   "source": [
    "df_tables = pd.DataFrame(data, columns = [\"region\", \"pdf_path\", \"page_number\"])"
   ]
  },
  {
   "cell_type": "code",
   "execution_count": 79,
   "metadata": {},
   "outputs": [
    {
     "name": "stderr",
     "output_type": "stream",
     "text": [
      "UserWarning:   (524.46, 527.00508) does not lie in column range (71.20564691656591, 524.0543651753326) [utils.py:740]\n",
      "UserWarning:   (521.4, 523.94508) does not lie in column range (71.26516616913543, 521.1749455864572) [utils.py:740]\n"
     ]
    }
   ],
   "source": [
    "writer = pd.ExcelWriter('indicators.xlsx')\n",
    "\n",
    "for i in range(len(df_tables)):\n",
    "    #read the table\n",
    "    table = camelot.read_pdf(df_tables.iloc[i][\"pdf_path\"], \n",
    "                            pages = df_tables.iloc[i][\"page_number\"])\n",
    "    #save the table to excel\n",
    "    title = df_tables.iloc[i][\"region\"] + \"_table_\" + str(i)\n",
    "    table[0].df.to_excel(writer, \n",
    "                        sheet_name = title)\n",
    "writer.save()"
   ]
  },
  {
   "cell_type": "code",
   "execution_count": 91,
   "metadata": {},
   "outputs": [],
   "source": [
    "data_english = [\n",
    "    [\"Latvia\",\n",
    "     r\"C:\\Users\\ITN1\\OneDrive - UPV\\Escritorio\\PHD Progress\\Research\\Monitoring\\Policy Document\\LA_Latvia_2014.pdf\",\n",
    "     \"56\"\n",
    "    ],\n",
    "    [\"Latvia\",\n",
    "     r\"C:\\Users\\ITN1\\OneDrive - UPV\\Escritorio\\PHD Progress\\Research\\Monitoring\\Policy Document\\LA_Latvia_2014.pdf\",\n",
    "     \"57\"\n",
    "    ],\n",
    "    [\"Slaskie\",\n",
    "    r\"C:\\Users\\ITN1\\OneDrive - UPV\\Escritorio\\PHD Progress\\Research\\Monitoring\\Policy Document\\English Language\\PL_Slaskie_2013.pdf\",\n",
    "    \"73\"],\n",
    "    [\"Slaskie\",\n",
    "    r\"C:\\Users\\ITN1\\OneDrive - UPV\\Escritorio\\PHD Progress\\Research\\Monitoring\\Policy Document\\English Language\\PL_Slaskie_2013.pdf\",\n",
    "    \"74\"],\n",
    "    [\"Slaskie\",\n",
    "    r\"C:\\Users\\ITN1\\OneDrive - UPV\\Escritorio\\PHD Progress\\Research\\Monitoring\\Policy Document\\English Language\\PL_Slaskie_2013.pdf\",\n",
    "    \"75\"],\n",
    "    [\"Slaskie\",\n",
    "    r\"C:\\Users\\ITN1\\OneDrive - UPV\\Escritorio\\PHD Progress\\Research\\Monitoring\\Policy Document\\English Language\\PL_Slaskie_2013.pdf\",\n",
    "    \"76\"],\n",
    "    [\"Slaskie\",\n",
    "    r\"C:\\Users\\ITN1\\OneDrive - UPV\\Escritorio\\PHD Progress\\Research\\Monitoring\\Policy Document\\English Language\\PL_Slaskie_2013.pdf\",\n",
    "    \"77\"],\n",
    "    [\"Slaskie\",\n",
    "    r\"C:\\Users\\ITN1\\OneDrive - UPV\\Escritorio\\PHD Progress\\Research\\Monitoring\\Policy Document\\English Language\\PL_Slaskie_2013.pdf\",\n",
    "    \"78\"],\n",
    "    [\"Slaskie\",\n",
    "    r\"C:\\Users\\ITN1\\OneDrive - UPV\\Escritorio\\PHD Progress\\Research\\Monitoring\\Policy Document\\English Language\\PL_Slaskie_2013.pdf\",\n",
    "    \"79\"],\n",
    "    [\"Slaskie\",\n",
    "    r\"C:\\Users\\ITN1\\OneDrive - UPV\\Escritorio\\PHD Progress\\Research\\Monitoring\\Policy Document\\English Language\\PL_Slaskie_2013.pdf\",\n",
    "    \"80\"]\n",
    "]\n",
    "\n",
    "df_tables = pd.DataFrame(data_english, columns = [\"region\", \"pdf_path\", \"page_number\"])"
   ]
  },
  {
   "cell_type": "code",
   "execution_count": 92,
   "metadata": {},
   "outputs": [],
   "source": [
    "writer = pd.ExcelWriter('indicators_en.xlsx')\n",
    "\n",
    "for i in range(len(df_tables)):\n",
    "    #read the table\n",
    "    table = camelot.read_pdf(df_tables.iloc[i][\"pdf_path\"], \n",
    "                            pages = df_tables.iloc[i][\"page_number\"])\n",
    "    #save the table to excel\n",
    "    title = df_tables.iloc[i][\"region\"] + \"_table_\" + str(i)\n",
    "    table[0].df.to_excel(writer, \n",
    "                        sheet_name = title)\n",
    "writer.save()"
   ]
  },
  {
   "cell_type": "code",
   "execution_count": 90,
   "metadata": {},
   "outputs": [
    {
     "data": {
      "text/html": [
       "<div>\n",
       "<style scoped>\n",
       "    .dataframe tbody tr th:only-of-type {\n",
       "        vertical-align: middle;\n",
       "    }\n",
       "\n",
       "    .dataframe tbody tr th {\n",
       "        vertical-align: top;\n",
       "    }\n",
       "\n",
       "    .dataframe thead th {\n",
       "        text-align: right;\n",
       "    }\n",
       "</style>\n",
       "<table border=\"1\" class=\"dataframe\">\n",
       "  <thead>\n",
       "    <tr style=\"text-align: right;\">\n",
       "      <th></th>\n",
       "      <th>region</th>\n",
       "      <th>pdf_path</th>\n",
       "      <th>page_number</th>\n",
       "    </tr>\n",
       "  </thead>\n",
       "  <tbody>\n",
       "    <tr>\n",
       "      <th>0</th>\n",
       "      <td>Latvia</td>\n",
       "      <td>C:\\Users\\ITN1\\OneDrive - UPV\\Escritorio\\PHD Pr...</td>\n",
       "      <td>56</td>\n",
       "    </tr>\n",
       "    <tr>\n",
       "      <th>1</th>\n",
       "      <td>Latvia</td>\n",
       "      <td>C:\\Users\\ITN1\\OneDrive - UPV\\Escritorio\\PHD Pr...</td>\n",
       "      <td>57</td>\n",
       "    </tr>\n",
       "    <tr>\n",
       "      <th>2</th>\n",
       "      <td>Slaskie</td>\n",
       "      <td>C:\\Users\\ITN1\\OneDrive - UPV\\Escritorio\\PHD Pr...</td>\n",
       "      <td>73</td>\n",
       "    </tr>\n",
       "    <tr>\n",
       "      <th>3</th>\n",
       "      <td>Slaskie</td>\n",
       "      <td>C:\\Users\\ITN1\\OneDrive - UPV\\Escritorio\\PHD Pr...</td>\n",
       "      <td>74</td>\n",
       "    </tr>\n",
       "    <tr>\n",
       "      <th>4</th>\n",
       "      <td>Slaskie</td>\n",
       "      <td>C:\\Users\\ITN1\\OneDrive - UPV\\Escritorio\\PHD Pr...</td>\n",
       "      <td>75</td>\n",
       "    </tr>\n",
       "    <tr>\n",
       "      <th>5</th>\n",
       "      <td>Slaskie</td>\n",
       "      <td>C:\\Users\\ITN1\\OneDrive - UPV\\Escritorio\\PHD Pr...</td>\n",
       "      <td>76</td>\n",
       "    </tr>\n",
       "    <tr>\n",
       "      <th>6</th>\n",
       "      <td>Slaskie</td>\n",
       "      <td>C:\\Users\\ITN1\\OneDrive - UPV\\Escritorio\\PHD Pr...</td>\n",
       "      <td>77</td>\n",
       "    </tr>\n",
       "    <tr>\n",
       "      <th>7</th>\n",
       "      <td>Slaskie</td>\n",
       "      <td>C:\\Users\\ITN1\\OneDrive - UPV\\Escritorio\\PHD Pr...</td>\n",
       "      <td>78</td>\n",
       "    </tr>\n",
       "    <tr>\n",
       "      <th>8</th>\n",
       "      <td>Slaskie</td>\n",
       "      <td>C:\\Users\\ITN1\\OneDrive - UPV\\Escritorio\\PHD Pr...</td>\n",
       "      <td>79</td>\n",
       "    </tr>\n",
       "    <tr>\n",
       "      <th>9</th>\n",
       "      <td>Slaskie</td>\n",
       "      <td>C:\\Users\\ITN1\\OneDrive - UPV\\Escritorio\\PHD Pr...</td>\n",
       "      <td>80</td>\n",
       "    </tr>\n",
       "  </tbody>\n",
       "</table>\n",
       "</div>"
      ],
      "text/plain": [
       "    region                                           pdf_path page_number\n",
       "0   Latvia  C:\\Users\\ITN1\\OneDrive - UPV\\Escritorio\\PHD Pr...          56\n",
       "1   Latvia  C:\\Users\\ITN1\\OneDrive - UPV\\Escritorio\\PHD Pr...          57\n",
       "2  Slaskie  C:\\Users\\ITN1\\OneDrive - UPV\\Escritorio\\PHD Pr...          73\n",
       "3  Slaskie  C:\\Users\\ITN1\\OneDrive - UPV\\Escritorio\\PHD Pr...          74\n",
       "4  Slaskie  C:\\Users\\ITN1\\OneDrive - UPV\\Escritorio\\PHD Pr...          75\n",
       "5  Slaskie  C:\\Users\\ITN1\\OneDrive - UPV\\Escritorio\\PHD Pr...          76\n",
       "6  Slaskie  C:\\Users\\ITN1\\OneDrive - UPV\\Escritorio\\PHD Pr...          77\n",
       "7  Slaskie  C:\\Users\\ITN1\\OneDrive - UPV\\Escritorio\\PHD Pr...          78\n",
       "8  Slaskie  C:\\Users\\ITN1\\OneDrive - UPV\\Escritorio\\PHD Pr...          79\n",
       "9  Slaskie  C:\\Users\\ITN1\\OneDrive - UPV\\Escritorio\\PHD Pr...          80"
      ]
     },
     "execution_count": 90,
     "metadata": {},
     "output_type": "execute_result"
    }
   ],
   "source": [
    "df_tables"
   ]
  },
  {
   "cell_type": "code",
   "execution_count": 112,
   "metadata": {},
   "outputs": [],
   "source": [
    "data_spanish = [[\"Aragona\",\n",
    "                 r\"C:\\Users\\ITN1\\OneDrive - UPV\\Escritorio\\PHD Progress\\Research\\Monitoring\\Policy Document\\Spanish Language\\ES_Aragona_2015.pdf\",\n",
    "                 \"222\"\n",
    "                ],\n",
    "                [\"Aragona\",\n",
    "                 r\"C:\\Users\\ITN1\\OneDrive - UPV\\Escritorio\\PHD Progress\\Research\\Monitoring\\Policy Document\\Spanish Language\\ES_Aragona_2015.pdf\",\n",
    "                 \"223\"\n",
    "                ],\n",
    "                [\"Aragona\",\n",
    "                 r\"C:\\Users\\ITN1\\OneDrive - UPV\\Escritorio\\PHD Progress\\Research\\Monitoring\\Policy Document\\Spanish Language\\ES_Aragona_2015.pdf\",\n",
    "                 \"224\"\n",
    "                ],\n",
    "                [\"Aragona\",\n",
    "                 r\"C:\\Users\\ITN1\\OneDrive - UPV\\Escritorio\\PHD Progress\\Research\\Monitoring\\Policy Document\\Spanish Language\\ES_Aragona_2015.pdf\",\n",
    "                 \"226\"\n",
    "                ],\n",
    "                [\"Aragona\",\n",
    "                 r\"C:\\Users\\ITN1\\OneDrive - UPV\\Escritorio\\PHD Progress\\Research\\Monitoring\\Policy Document\\Spanish Language\\ES_Aragona_2015.pdf\",\n",
    "                 \"227\"\n",
    "                ],\n",
    "                [\"Aragona\",\n",
    "                 r\"C:\\Users\\ITN1\\OneDrive - UPV\\Escritorio\\PHD Progress\\Research\\Monitoring\\Policy Document\\Spanish Language\\ES_Aragona_2015.pdf\",\n",
    "                 \"228\"\n",
    "                ],\n",
    "                [\"Aragona\",\n",
    "                 r\"C:\\Users\\ITN1\\OneDrive - UPV\\Escritorio\\PHD Progress\\Research\\Monitoring\\Policy Document\\Spanish Language\\ES_Aragona_2015.pdf\",\n",
    "                 \"229\"\n",
    "                ],\n",
    "                [\"Aragona\",\n",
    "                 r\"C:\\Users\\ITN1\\OneDrive - UPV\\Escritorio\\PHD Progress\\Research\\Monitoring\\Policy Document\\Spanish Language\\ES_Aragona_2015.pdf\",\n",
    "                 \"230\"\n",
    "                ],\n",
    "                [\"Aragona\",\n",
    "                 r\"C:\\Users\\ITN1\\OneDrive - UPV\\Escritorio\\PHD Progress\\Research\\Monitoring\\Policy Document\\Spanish Language\\ES_Aragona_2015.pdf\",\n",
    "                 \"232\"\n",
    "                ],\n",
    "                [\"Aragona\",\n",
    "                 r\"C:\\Users\\ITN1\\OneDrive - UPV\\Escritorio\\PHD Progress\\Research\\Monitoring\\Policy Document\\Spanish Language\\ES_Aragona_2015.pdf\",\n",
    "                 \"233\"\n",
    "                ],\n",
    "                [\"Cantabria\",\n",
    "                 r\"C:\\Users\\ITN1\\OneDrive - UPV\\Escritorio\\PHD Progress\\Research\\Monitoring\\Policy Document\\Spanish Language\\ES_Cantabria_2013.pdf\",\n",
    "                 \"284\"\n",
    "                ],\n",
    "                [\"Euskadie\",\n",
    "                 r\"C:\\Users\\ITN1\\OneDrive - UPV\\Escritorio\\PHD Progress\\Research\\Monitoring\\Policy Document\\Spanish Language\\ES_Euskadi_2014.pdf\",\n",
    "                 \"116\"\n",
    "                ],\n",
    "                 [\"Extremadura\",\n",
    "                 r\"C:\\Users\\ITN1\\OneDrive - UPV\\Escritorio\\PHD Progress\\Research\\Monitoring\\Policy Document\\Spanish Language\\ES_Extremadura_2014.pdf\",\n",
    "                 \"199\"\n",
    "                ],\n",
    "                [\"Extremadura\",\n",
    "                 r\"C:\\Users\\ITN1\\OneDrive - UPV\\Escritorio\\PHD Progress\\Research\\Monitoring\\Policy Document\\Spanish Language\\ES_Extremadura_2014.pdf\",\n",
    "                 \"200\"\n",
    "                ],\n",
    "                [\"Valenciana\",\n",
    "                 r\"C:\\Users\\ITN1\\OneDrive - UPV\\Escritorio\\PHD Progress\\Research\\Monitoring\\Policy Document\\Spanish Language\\ES_Valenciana_2014.pdf\",\n",
    "                 \"89\"\n",
    "                ],\n",
    "                [\"Valenciana\",\n",
    "                 r\"C:\\Users\\ITN1\\OneDrive - UPV\\Escritorio\\PHD Progress\\Research\\Monitoring\\Policy Document\\Spanish Language\\ES_Valenciana_2014.pdf\",\n",
    "                 \"90\"\n",
    "                ],\n",
    "                [\"Madrid\",\n",
    "                 r\"C:\\Users\\ITN1\\OneDrive - UPV\\Escritorio\\PHD Progress\\Research\\Monitoring\\Policy Document\\Spanish Language\\ES_Madrid_2013.pdf\",\n",
    "                 \"143\"\n",
    "                ],\n",
    "                [\"Madrid\",\n",
    "                 r\"C:\\Users\\ITN1\\OneDrive - UPV\\Escritorio\\PHD Progress\\Research\\Monitoring\\Policy Document\\Spanish Language\\ES_Madrid_2013.pdf\",\n",
    "                 \"144\"\n",
    "                ],\n",
    "                [\"Madrid\",\n",
    "                 r\"C:\\Users\\ITN1\\OneDrive - UPV\\Escritorio\\PHD Progress\\Research\\Monitoring\\Policy Document\\Spanish Language\\ES_Madrid_2013.pdf\",\n",
    "                 \"145\"\n",
    "                ]]\n",
    "\n",
    "df_tables = pd.DataFrame(data_spanish, columns = [\"region\", \"pdf_path\", \"page_number\"])"
   ]
  },
  {
   "cell_type": "code",
   "execution_count": 113,
   "metadata": {},
   "outputs": [
    {
     "name": "stdout",
     "output_type": "stream",
     "text": [
      "okay this worked0\n",
      "okay this worked1\n",
      "okay this worked2\n",
      "okay this worked3\n",
      "okay this worked4\n",
      "okay this worked5\n",
      "okay this worked6\n",
      "okay this worked7\n",
      "okay this worked8\n",
      "okay this worked9\n",
      "okay this worked10\n",
      "okay this worked11\n",
      "okay this worked12\n",
      "okay this worked13\n",
      "okay this worked14\n",
      "okay this worked15\n",
      "okay this worked16\n",
      "okay this worked17\n",
      "okay this worked18\n"
     ]
    }
   ],
   "source": [
    "writer = pd.ExcelWriter('indicators_esp.xlsx')\n",
    "\n",
    "for i in range(len(df_tables)):\n",
    "    #read the table\n",
    "    table = camelot.read_pdf(df_tables.iloc[i][\"pdf_path\"], \n",
    "                            pages = df_tables.iloc[i][\"page_number\"])\n",
    "    #save the table to excel\n",
    "    title = df_tables.iloc[i][\"region\"] + \"_table_\" + str(i)\n",
    "    table[0].df.to_excel(writer, \n",
    "                        sheet_name = title)\n",
    "    print(\"okay this worked\" + str(i))\n",
    "writer.save()"
   ]
  },
  {
   "cell_type": "code",
   "execution_count": 111,
   "metadata": {},
   "outputs": [
    {
     "data": {
      "text/html": [
       "<div>\n",
       "<style scoped>\n",
       "    .dataframe tbody tr th:only-of-type {\n",
       "        vertical-align: middle;\n",
       "    }\n",
       "\n",
       "    .dataframe tbody tr th {\n",
       "        vertical-align: top;\n",
       "    }\n",
       "\n",
       "    .dataframe thead th {\n",
       "        text-align: right;\n",
       "    }\n",
       "</style>\n",
       "<table border=\"1\" class=\"dataframe\">\n",
       "  <thead>\n",
       "    <tr style=\"text-align: right;\">\n",
       "      <th></th>\n",
       "      <th>region</th>\n",
       "      <th>pdf_path</th>\n",
       "      <th>page_number</th>\n",
       "    </tr>\n",
       "  </thead>\n",
       "  <tbody>\n",
       "    <tr>\n",
       "      <th>0</th>\n",
       "      <td>Aragona</td>\n",
       "      <td>C:\\Users\\ITN1\\OneDrive - UPV\\Escritorio\\PHD Pr...</td>\n",
       "      <td>222</td>\n",
       "    </tr>\n",
       "    <tr>\n",
       "      <th>1</th>\n",
       "      <td>Aragona</td>\n",
       "      <td>C:\\Users\\ITN1\\OneDrive - UPV\\Escritorio\\PHD Pr...</td>\n",
       "      <td>223</td>\n",
       "    </tr>\n",
       "    <tr>\n",
       "      <th>2</th>\n",
       "      <td>Aragona</td>\n",
       "      <td>C:\\Users\\ITN1\\OneDrive - UPV\\Escritorio\\PHD Pr...</td>\n",
       "      <td>224</td>\n",
       "    </tr>\n",
       "    <tr>\n",
       "      <th>3</th>\n",
       "      <td>Aragona</td>\n",
       "      <td>C:\\Users\\ITN1\\OneDrive - UPV\\Escritorio\\PHD Pr...</td>\n",
       "      <td>226</td>\n",
       "    </tr>\n",
       "    <tr>\n",
       "      <th>4</th>\n",
       "      <td>Aragona</td>\n",
       "      <td>C:\\Users\\ITN1\\OneDrive - UPV\\Escritorio\\PHD Pr...</td>\n",
       "      <td>227</td>\n",
       "    </tr>\n",
       "    <tr>\n",
       "      <th>5</th>\n",
       "      <td>Aragona</td>\n",
       "      <td>C:\\Users\\ITN1\\OneDrive - UPV\\Escritorio\\PHD Pr...</td>\n",
       "      <td>228</td>\n",
       "    </tr>\n",
       "    <tr>\n",
       "      <th>6</th>\n",
       "      <td>Aragona</td>\n",
       "      <td>C:\\Users\\ITN1\\OneDrive - UPV\\Escritorio\\PHD Pr...</td>\n",
       "      <td>229</td>\n",
       "    </tr>\n",
       "    <tr>\n",
       "      <th>7</th>\n",
       "      <td>Aragona</td>\n",
       "      <td>C:\\Users\\ITN1\\OneDrive - UPV\\Escritorio\\PHD Pr...</td>\n",
       "      <td>230</td>\n",
       "    </tr>\n",
       "    <tr>\n",
       "      <th>8</th>\n",
       "      <td>Aragona</td>\n",
       "      <td>C:\\Users\\ITN1\\OneDrive - UPV\\Escritorio\\PHD Pr...</td>\n",
       "      <td>232</td>\n",
       "    </tr>\n",
       "    <tr>\n",
       "      <th>9</th>\n",
       "      <td>Aragona</td>\n",
       "      <td>C:\\Users\\ITN1\\OneDrive - UPV\\Escritorio\\PHD Pr...</td>\n",
       "      <td>233</td>\n",
       "    </tr>\n",
       "    <tr>\n",
       "      <th>10</th>\n",
       "      <td>Cantabria</td>\n",
       "      <td>C:\\Users\\ITN1\\OneDrive - UPV\\Escritorio\\PHD Pr...</td>\n",
       "      <td>284</td>\n",
       "    </tr>\n",
       "    <tr>\n",
       "      <th>11</th>\n",
       "      <td>Euskadie</td>\n",
       "      <td>C:\\Users\\ITN1\\OneDrive - UPV\\Escritorio\\PHD Pr...</td>\n",
       "      <td>116</td>\n",
       "    </tr>\n",
       "    <tr>\n",
       "      <th>12</th>\n",
       "      <td>Extremadura</td>\n",
       "      <td>C:\\Users\\ITN1\\OneDrive - UPV\\Escritorio\\PHD Pr...</td>\n",
       "      <td>199</td>\n",
       "    </tr>\n",
       "    <tr>\n",
       "      <th>13</th>\n",
       "      <td>Extremadura</td>\n",
       "      <td>C:\\Users\\ITN1\\OneDrive - UPV\\Escritorio\\PHD Pr...</td>\n",
       "      <td>200</td>\n",
       "    </tr>\n",
       "    <tr>\n",
       "      <th>14</th>\n",
       "      <td>Valenciana</td>\n",
       "      <td>C:\\Users\\ITN1\\OneDrive - UPV\\Escritorio\\PHD Pr...</td>\n",
       "      <td>89</td>\n",
       "    </tr>\n",
       "    <tr>\n",
       "      <th>15</th>\n",
       "      <td>Valenciana</td>\n",
       "      <td>C:\\Users\\ITN1\\OneDrive - UPV\\Escritorio\\PHD Pr...</td>\n",
       "      <td>90</td>\n",
       "    </tr>\n",
       "    <tr>\n",
       "      <th>16</th>\n",
       "      <td>La Rioja</td>\n",
       "      <td>C:\\Users\\ITN1\\OneDrive - UPV\\Escritorio\\PHD Pr...</td>\n",
       "      <td>124</td>\n",
       "    </tr>\n",
       "    <tr>\n",
       "      <th>17</th>\n",
       "      <td>La Rioja</td>\n",
       "      <td>C:\\Users\\ITN1\\OneDrive - UPV\\Escritorio\\PHD Pr...</td>\n",
       "      <td>126</td>\n",
       "    </tr>\n",
       "    <tr>\n",
       "      <th>18</th>\n",
       "      <td>Madrid</td>\n",
       "      <td>C:\\Users\\ITN1\\OneDrive - UPV\\Escritorio\\PHD Pr...</td>\n",
       "      <td>143</td>\n",
       "    </tr>\n",
       "    <tr>\n",
       "      <th>19</th>\n",
       "      <td>Madrid</td>\n",
       "      <td>C:\\Users\\ITN1\\OneDrive - UPV\\Escritorio\\PHD Pr...</td>\n",
       "      <td>144</td>\n",
       "    </tr>\n",
       "    <tr>\n",
       "      <th>20</th>\n",
       "      <td>Madrid</td>\n",
       "      <td>C:\\Users\\ITN1\\OneDrive - UPV\\Escritorio\\PHD Pr...</td>\n",
       "      <td>145</td>\n",
       "    </tr>\n",
       "  </tbody>\n",
       "</table>\n",
       "</div>"
      ],
      "text/plain": [
       "         region                                           pdf_path page_number\n",
       "0       Aragona  C:\\Users\\ITN1\\OneDrive - UPV\\Escritorio\\PHD Pr...         222\n",
       "1       Aragona  C:\\Users\\ITN1\\OneDrive - UPV\\Escritorio\\PHD Pr...         223\n",
       "2       Aragona  C:\\Users\\ITN1\\OneDrive - UPV\\Escritorio\\PHD Pr...         224\n",
       "3       Aragona  C:\\Users\\ITN1\\OneDrive - UPV\\Escritorio\\PHD Pr...         226\n",
       "4       Aragona  C:\\Users\\ITN1\\OneDrive - UPV\\Escritorio\\PHD Pr...         227\n",
       "5       Aragona  C:\\Users\\ITN1\\OneDrive - UPV\\Escritorio\\PHD Pr...         228\n",
       "6       Aragona  C:\\Users\\ITN1\\OneDrive - UPV\\Escritorio\\PHD Pr...         229\n",
       "7       Aragona  C:\\Users\\ITN1\\OneDrive - UPV\\Escritorio\\PHD Pr...         230\n",
       "8       Aragona  C:\\Users\\ITN1\\OneDrive - UPV\\Escritorio\\PHD Pr...         232\n",
       "9       Aragona  C:\\Users\\ITN1\\OneDrive - UPV\\Escritorio\\PHD Pr...         233\n",
       "10    Cantabria  C:\\Users\\ITN1\\OneDrive - UPV\\Escritorio\\PHD Pr...         284\n",
       "11     Euskadie  C:\\Users\\ITN1\\OneDrive - UPV\\Escritorio\\PHD Pr...         116\n",
       "12  Extremadura  C:\\Users\\ITN1\\OneDrive - UPV\\Escritorio\\PHD Pr...         199\n",
       "13  Extremadura  C:\\Users\\ITN1\\OneDrive - UPV\\Escritorio\\PHD Pr...         200\n",
       "14   Valenciana  C:\\Users\\ITN1\\OneDrive - UPV\\Escritorio\\PHD Pr...          89\n",
       "15   Valenciana  C:\\Users\\ITN1\\OneDrive - UPV\\Escritorio\\PHD Pr...          90\n",
       "16     La Rioja  C:\\Users\\ITN1\\OneDrive - UPV\\Escritorio\\PHD Pr...         124\n",
       "17     La Rioja  C:\\Users\\ITN1\\OneDrive - UPV\\Escritorio\\PHD Pr...         126\n",
       "18       Madrid  C:\\Users\\ITN1\\OneDrive - UPV\\Escritorio\\PHD Pr...         143\n",
       "19       Madrid  C:\\Users\\ITN1\\OneDrive - UPV\\Escritorio\\PHD Pr...         144\n",
       "20       Madrid  C:\\Users\\ITN1\\OneDrive - UPV\\Escritorio\\PHD Pr...         145"
      ]
     },
     "execution_count": 111,
     "metadata": {},
     "output_type": "execute_result"
    }
   ],
   "source": [
    "df_tables"
   ]
  },
  {
   "cell_type": "code",
   "execution_count": null,
   "metadata": {},
   "outputs": [],
   "source": [
    "issues = [[\"Extremadura\",\n",
    "                 r\"C:\\Users\\ITN1\\OneDrive - UPV\\Escritorio\\PHD Progress\\Research\\Monitoring\\Policy Document\\Spanish Language\\ES_Extremadura_2014.pdf\",\n",
    "                 \"201\"\n",
    "                ],\n",
    "          [\"Extremadura\",\n",
    "                 r\"C:\\Users\\ITN1\\OneDrive - UPV\\Escritorio\\PHD Progress\\Research\\Monitoring\\Policy Document\\Spanish Language\\ES_Extremadura_2014.pdf\",\n",
    "                 \"202\"\n",
    "                ],\n",
    "          [\"Extremadura\",\n",
    "                 r\"C:\\Users\\ITN1\\OneDrive - UPV\\Escritorio\\PHD Progress\\Research\\Monitoring\\Policy Document\\Spanish Language\\ES_Extremadura_2014.pdf\",\n",
    "                 \"203\"\n",
    "                ],\n",
    "          [\"La Rioja\",\n",
    "                 r\"C:\\Users\\ITN1\\OneDrive - UPV\\Escritorio\\PHD Progress\\Research\\Monitoring\\Policy Document\\Spanish Language\\ES_La_Rioja_2013.pdf\",\n",
    "                 \"124\"\n",
    "                ],\n",
    "        [\"La Rioja\",\n",
    "                 r\"C:\\Users\\ITN1\\OneDrive - UPV\\Escritorio\\PHD Progress\\Research\\Monitoring\\Policy Document\\Spanish Language\\ES_La_Rioja_2013.pdf\",\n",
    "                 \"126\"\n",
    "                ],\n",
    "         ]"
   ]
  }
 ],
 "metadata": {
  "kernelspec": {
   "display_name": "Python 3",
   "language": "python",
   "name": "python3"
  },
  "language_info": {
   "codemirror_mode": {
    "name": "ipython",
    "version": 3
   },
   "file_extension": ".py",
   "mimetype": "text/x-python",
   "name": "python",
   "nbconvert_exporter": "python",
   "pygments_lexer": "ipython3",
   "version": "3.8.3"
  }
 },
 "nbformat": 4,
 "nbformat_minor": 4
}
